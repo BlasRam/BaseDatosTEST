{
  "nbformat": 4,
  "nbformat_minor": 0,
  "metadata": {
    "colab": {
      "name": "Regresion_Lineal_Bram.ipynb",
      "provenance": [],
      "authorship_tag": "ABX9TyOK2Seiizs1fqoIZ6GCnXE/",
      "include_colab_link": true
    },
    "kernelspec": {
      "name": "python3",
      "display_name": "Python 3"
    },
    "language_info": {
      "name": "python"
    }
  },
  "cells": [
    {
      "cell_type": "markdown",
      "metadata": {
        "id": "view-in-github",
        "colab_type": "text"
      },
      "source": [
        "<a href=\"https://colab.research.google.com/github/BlasRam/BaseDatosTEST/blob/main/Regresion_Lineal_Bram.ipynb\" target=\"_parent\"><img src=\"https://colab.research.google.com/assets/colab-badge.svg\" alt=\"Open In Colab\"/></a>"
      ]
    },
    {
      "cell_type": "code",
      "execution_count": 2,
      "metadata": {
        "id": "kikGjxME7nAC"
      },
      "outputs": [],
      "source": [
        "import numpy as np\n",
        "import matplotlib.pyplot as plt\n",
        "%matplotlib inline"
      ]
    },
    {
      "cell_type": "code",
      "source": [
        "m=100 ; #cantidad de muestra\n",
        "theta0_obj=10;\n",
        "theta1_obj=7;\n",
        "x_obj=np.linspace(2, 10, num = m);## linspace genera numero entre 2,10 ,m genera 100 numeros"
      ],
      "metadata": {
        "id": "RCxygf678Z66"
      },
      "execution_count": 3,
      "outputs": []
    },
    {
      "cell_type": "code",
      "source": [
        "x_obj.size"
      ],
      "metadata": {
        "colab": {
          "base_uri": "https://localhost:8080/"
        },
        "id": "Z-aSZJfQ9fyo",
        "outputId": "b01e4a3e-6bab-4df7-efab-e960424a74ef"
      },
      "execution_count": 5,
      "outputs": [
        {
          "output_type": "execute_result",
          "data": {
            "text/plain": [
              "100"
            ]
          },
          "metadata": {},
          "execution_count": 5
        }
      ]
    },
    {
      "cell_type": "markdown",
      "source": [
        " utilzar la ecuacion de la recta\n",
        " Y=tetha0+tetha1*X"
      ],
      "metadata": {
        "id": "pG7Z9pPF9zMM"
      }
    },
    {
      "cell_type": "code",
      "source": [
        "y_obj = theta0_obj + theta1_obj*x_obj;\n",
        "plt.plot(x_obj, y_obj) #### Graficar las coordenas"
      ],
      "metadata": {
        "colab": {
          "base_uri": "https://localhost:8080/",
          "height": 282
        },
        "id": "HCYwIdAj98rz",
        "outputId": "283b3484-36de-4e4b-b43d-48933dfa2597"
      },
      "execution_count": 6,
      "outputs": [
        {
          "output_type": "execute_result",
          "data": {
            "text/plain": [
              "[<matplotlib.lines.Line2D at 0x7f3c8edf2310>]"
            ]
          },
          "metadata": {},
          "execution_count": 6
        },
        {
          "output_type": "display_data",
          "data": {
            "image/png": "[encoded data removed]",
            "text/plain": [
              "<Figure size 432x288 with 1 Axes>"
            ]
          },
          "metadata": {
            "needs_background": "light"
          }
        }
      ]
    },
    {
      "cell_type": "markdown",
      "source": [
        "Generamos Ruido para que la recta no pase por los puntos generados exactamente"
      ],
      "metadata": {
        "id": "ikUFTgvn-ZQA"
      }
    },
    {
      "cell_type": "code",
      "source": [
        "ruido = 10 - 10*np.random.rand(m);\n",
        "y_obj = theta0_obj + theta1_obj*x_obj;\n",
        "plt.plot(x_obj, y_obj+(ruido), 'bo')\n",
        "y_obj = y_obj+(ruido)"
      ],
      "metadata": {
        "colab": {
          "base_uri": "https://localhost:8080/",
          "height": 265
        },
        "id": "mJR0-9kc-TCv",
        "outputId": "bfd5910f-c1fa-4ab9-bcc4-bb8777416796"
      },
      "execution_count": 7,
      "outputs": [
        {
          "output_type": "display_data",
          "data": {
            "image/png": "[encoded data removed]",
            "text/plain": [
              "<Figure size 432x288 with 1 Axes>"
            ]
          },
          "metadata": {
            "needs_background": "light"
          }
        }
      ]
    },
    {
      "cell_type": "code",
      "source": [
        "theta0_haz = 0\n",
        "theta1_haz = np.arange(0, 20)\n",
        "\n",
        "J = np.zeros(20)\n",
        "for i in range(20):\n",
        "    for j in range(m):\n",
        "        h = theta0_haz + theta1_haz[i]*x_obj[j];\n",
        "        J[i] = J[i] + (1/(2*m))*(y_obj[j] - h)**2\n",
        " \n",
        "plt.plot(theta1_haz, J)"
      ],
      "metadata": {
        "colab": {
          "base_uri": "https://localhost:8080/",
          "height": 282
        },
        "id": "_Klp9XCe-7Qy",
        "outputId": "7436989e-7f92-45ab-e2a1-012b8cb42a0e"
      },
      "execution_count": 8,
      "outputs": [
        {
          "output_type": "execute_result",
          "data": {
            "text/plain": [
              "[<matplotlib.lines.Line2D at 0x7f3c8e833fd0>]"
            ]
          },
          "metadata": {},
          "execution_count": 8
        },
        {
          "output_type": "display_data",
          "data": {
            "image/png": "[encoded data removed]",
            "text/plain": [
              "<Figure size 432x288 with 1 Axes>"
            ]
          },
          "metadata": {
            "needs_background": "light"
          }
        }
      ]
    },
    {
      "cell_type": "code",
      "source": [
        ""
      ],
      "metadata": {
        "id": "mBLrHDlpB5RY"
      },
      "execution_count": null,
      "outputs": []
    }
  ]
}